{
 "cells": [
  {
   "cell_type": "code",
   "execution_count": 12,
   "metadata": {},
   "outputs": [],
   "source": [
    "import numpy as np\n",
    "from sklearn.datasets import load_iris\n",
    "\n",
    "class LogisticRegression:\n",
    "\n",
    "    def __init__(self, lr = 0.001, n_iters = 10000):\n",
    "        self.lr = lr\n",
    "        self.n_iters = n_iters\n",
    "        self.weights = None\n",
    "        self.bias = None\n",
    "\n",
    "    \n",
    "    def fit(self, X, y):\n",
    "        n_smaples, n_features = X.shape\n",
    "        self.weights = np.zeros(n_features)\n",
    "        self.bias = 0\n",
    "\n",
    "        for i in range(self.n_iters):\n",
    "            linear_model = np.dot(X, self.weights) + self.bias\n",
    "            y_predcited = self._sigmoid(linear_model) \n",
    "\n",
    "            dw = (1 / n_smaples) * np.dot(X.T, (y_predcited - y))\n",
    "            db = (1 / n_smaples) * np.sum(y_predcited - y)\n",
    "\n",
    "            self.weights -= self.lr * dw\n",
    "            self.bias -= self.lr * db\n",
    "    \n",
    "    def predict(self, X):\n",
    "        linear_model = np.dot(X, self.weights) + self.bias\n",
    "        y_predcited = self._sigmoid(linear_model)\n",
    "        y_predcited_class = [1 if i >= 0.5 else 0 for i in y_predcited]\n",
    "        return np.array(y_predcited_class)\n",
    "\n",
    "    def _sigmoid(self, x):\n",
    "        return 1 / (1 + np.exp(-x))"
   ]
  },
  {
   "cell_type": "code",
   "execution_count": 13,
   "metadata": {},
   "outputs": [
    {
     "name": "stdout",
     "output_type": "stream",
     "text": [
      "Accuracy: 100.00%\n"
     ]
    }
   ],
   "source": [
    "from sklearn.model_selection import train_test_split\n",
    "from sklearn.metrics import accuracy_score\n",
    "from sklearn.datasets import load_digits\n",
    "from sklearn.datasets import load_iris\n",
    "\n",
    "data = load_iris()\n",
    "X = data.data\n",
    "y = data.target\n",
    "\n",
    "# Convert to binary classification problem\n",
    "y = np.where(y == 0, 1, 0)  # Convert to binary classification (0 vs rest)\n",
    "\n",
    "# Split the dataset into training and testing sets\n",
    "X_train, X_test, y_train, y_test = train_test_split(X, y, test_size=0.2, random_state=42)\n",
    "\n",
    "# Initialize and train the model\n",
    "model = LogisticRegression(lr=0.01, n_iters=1000)\n",
    "model.fit(X_train, y_train)\n",
    "\n",
    "# Make predictions\n",
    "y_pred = model.predict(X_test)\n",
    "\n",
    "# Calculate accuracy\n",
    "accuracy = accuracy_score(y_test, y_pred)\n",
    "print(f\"Accuracy: {accuracy * 100:.2f}%\")\n"
   ]
  },
  {
   "cell_type": "code",
   "execution_count": 15,
   "metadata": {},
   "outputs": [
    {
     "name": "stdout",
     "output_type": "stream",
     "text": [
      "Custom Logistic Regression Accuracy: 100.00%\n",
      "Sklearn Logistic Regression Accuracy: 100.00%\n",
      "\n",
      "--- Coefficients (weights) ---\n",
      "Your model: [ 0.2547  0.9296 -1.4702 -0.6571]\n",
      "Sklearn   : [-0.4276  0.8877 -2.2147 -0.9161]\n",
      "\n",
      "--- Bias (intercept) ---\n",
      "Your model: 0.1705\n",
      "Sklearn   : 6.2442\n"
     ]
    }
   ],
   "source": [
    "\n",
    "from sklearn.linear_model import LogisticRegression as SklearnLogReg\n",
    "\n",
    "# Sklearn model\n",
    "sk_model = SklearnLogReg()\n",
    "sk_model.fit(X_train, y_train)\n",
    "sk_y_pred = sk_model.predict(X_test)\n",
    "sk_accuracy = accuracy_score(y_test, sk_y_pred)\n",
    "\n",
    "print(f\"Custom Logistic Regression Accuracy: {accuracy * 100:.2f}%\")\n",
    "print(f\"Sklearn Logistic Regression Accuracy: {sk_accuracy * 100:.2f}%\")\n",
    "\n",
    "\n",
    "\n",
    "# 5. Porównanie współczynników\n",
    "print(\"\\n--- Coefficients (weights) ---\")\n",
    "print(\"Your model:\", np.round(model.weights, 4))\n",
    "print(\"Sklearn   :\", np.round(sk_model.coef_[0], 4))\n",
    "\n",
    "print(\"\\n--- Bias (intercept) ---\")\n",
    "print(\"Your model:\", round(model.bias, 4))\n",
    "print(\"Sklearn   :\", round(sk_model.intercept_[0], 4))"
   ]
  }
 ],
 "metadata": {
  "kernelspec": {
   "display_name": "datascience",
   "language": "python",
   "name": "python3"
  },
  "language_info": {
   "codemirror_mode": {
    "name": "ipython",
    "version": 3
   },
   "file_extension": ".py",
   "mimetype": "text/x-python",
   "name": "python",
   "nbconvert_exporter": "python",
   "pygments_lexer": "ipython3",
   "version": "3.10.16"
  }
 },
 "nbformat": 4,
 "nbformat_minor": 2
}
