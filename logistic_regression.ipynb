{
 "cells": [
  {
   "cell_type": "code",
   "execution_count": 36,
   "metadata": {},
   "outputs": [],
   "source": [
    "import numpy as np\n",
    "\n",
    "class LogisticRegression:\n",
    "\n",
    "    def __init__(self, L=0.001, n_iters=10000):\n",
    "        self.L = L  # Learning rate \n",
    "        self.n_iters = n_iters\n",
    "        self.m_now = None  # Weights \n",
    "        self.b_now = None  # Bias \n",
    "\n",
    "    def fit(self, X, Y):\n",
    "        n_samples, n_features = X.shape\n",
    "        self.m_now = np.zeros(n_features)\n",
    "        self.b_now = 0\n",
    "\n",
    "        for _ in range(self.n_iters):\n",
    "            # y = mx + b\n",
    "            linear_model = np.dot(X, self.m_now) + self.b_now\n",
    "            y_predcited = self._sigmoid(linear_model)\n",
    "\n",
    "            # Gradient of cross-entropy loss for weights and bias\n",
    "            m_gradient = -(1 / n_samples) * np.dot(X.T, (Y - y_predcited)) \n",
    "            b_gradient = -(1 / n_samples) * np.sum(Y - y_predcited)\n",
    "\n",
    "            self.m_now -= self.L * m_gradient\n",
    "            self.b_now -= self.L * b_gradient\n",
    "\n",
    "    def predict(self, X):\n",
    "        # y = mx + b\n",
    "        linear_model = np.dot(X, self.m_now) + self.b_now\n",
    "        y_predcited = self._sigmoid(linear_model)\n",
    "        y_predcited_class = [1 if i >= 0.5 else 0 for i in y_predcited]\n",
    "        return np.array(y_predcited_class)\n",
    "    \n",
    "    def predict_probability(self, X):\n",
    "        linear_model = np.dot(X, self.m_now) + self.b_now\n",
    "        y_predcited = self._sigmoid(linear_model)\n",
    "        return y_predcited\n",
    "\n",
    "    def _sigmoid(self, x):\n",
    "        return 1 / (1 + np.exp(-x))\n"
   ]
  },
  {
   "cell_type": "code",
   "execution_count": 37,
   "metadata": {},
   "outputs": [
    {
     "name": "stdout",
     "output_type": "stream",
     "text": [
      "Accuracy: 99.72%\n"
     ]
    }
   ],
   "source": [
    "from sklearn.model_selection import train_test_split\n",
    "from sklearn.metrics import accuracy_score\n",
    "from sklearn.datasets import load_digits\n",
    "\n",
    "data = load_digits()\n",
    "X = data.data\n",
    "y = data.target\n",
    "\n",
    "# We will convert the problem to binary classification (0 vs not 0)\n",
    "y = np.where(y == 0, 1, 0)  \n",
    "\n",
    "X_train, X_test, y_train, y_test = train_test_split(X, y, test_size=0.2, random_state=42)\n",
    "\n",
    "model = LogisticRegression()\n",
    "model.fit(X_train, y_train)\n",
    "\n",
    "y_pred = model.predict(X_test)\n",
    "\n",
    "accuracy = accuracy_score(y_test, y_pred)\n",
    "print(f\"Accuracy: {accuracy * 100:.2f}%\")\n"
   ]
  },
  {
   "cell_type": "code",
   "execution_count": 38,
   "metadata": {},
   "outputs": [
    {
     "name": "stdout",
     "output_type": "stream",
     "text": [
      "Custom Logistic Regression Accuracy: 99.72%\n",
      "Sklearn Logistic Regression Accuracy: 99.72%\n"
     ]
    }
   ],
   "source": [
    "\n",
    "from sklearn.linear_model import LogisticRegression as SklearnLogReg\n",
    "\n",
    "sk_model = SklearnLogReg()\n",
    "sk_model.fit(X_train, y_train)\n",
    "sk_y_pred = sk_model.predict(X_test)\n",
    "sk_accuracy = accuracy_score(y_test, sk_y_pred)\n",
    "\n",
    "print(f\"Custom Logistic Regression Accuracy: {accuracy * 100:.2f}%\")\n",
    "print(f\"Sklearn Logistic Regression Accuracy: {sk_accuracy * 100:.2f}%\")"
   ]
  },
  {
   "cell_type": "code",
   "execution_count": null,
   "metadata": {},
   "outputs": [],
   "source": [
    "\n",
    "\n"
   ]
  }
 ],
 "metadata": {
  "kernelspec": {
   "display_name": "datascience",
   "language": "python",
   "name": "python3"
  },
  "language_info": {
   "codemirror_mode": {
    "name": "ipython",
    "version": 3
   },
   "file_extension": ".py",
   "mimetype": "text/x-python",
   "name": "python",
   "nbconvert_exporter": "python",
   "pygments_lexer": "ipython3",
   "version": "3.10.16"
  }
 },
 "nbformat": 4,
 "nbformat_minor": 2
}
